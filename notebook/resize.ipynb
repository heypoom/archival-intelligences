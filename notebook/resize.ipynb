{
 "cells": [
  {
   "cell_type": "code",
   "id": "initial_id",
   "metadata": {
    "collapsed": true,
    "ExecuteTime": {
     "end_time": "2024-04-14T09:16:26.116667Z",
     "start_time": "2024-04-14T09:16:25.562466Z"
    }
   },
   "source": [
    "import os\n",
    "from PIL import Image\n",
    "\n",
    "IN_DIR = \"../assets/chuamiatee/in\"\n",
    "\n",
    "def resize_and_crop(image, size=(512, 512)):\n",
    "    # Get the original image dimensions\n",
    "    width, height = image.size\n",
    "\n",
    "    # Calculate the aspect ratio\n",
    "    aspect_ratio = width / height\n",
    "\n",
    "    if aspect_ratio > 1:\n",
    "        # Image is wider than it is tall\n",
    "        new_width = int(aspect_ratio * size[1])\n",
    "        new_height = size[1]\n",
    "    else:\n",
    "        # Image is taller than it is wide\n",
    "        new_width = size[0]\n",
    "        new_height = int(size[0] / aspect_ratio)\n",
    "\n",
    "    # Resize the image\n",
    "    resized_image = image.resize((new_width, new_height))\n",
    "\n",
    "    # Calculate the cropping box\n",
    "    left = (new_width - size[0]) // 2\n",
    "    top = (new_height - size[1]) // 2\n",
    "    right = left + size[0]\n",
    "    bottom = top + size[1]\n",
    "\n",
    "    # Crop the image\n",
    "    return resized_image.crop((left, top, right, bottom))\n",
    "    \n",
    "\n",
    "for id, key in enumerate(os.listdir(IN_DIR)):\n",
    "    file = open(IN_DIR + \"/\" + key, \"rb\")\n",
    "    src_image = Image.open(file)\n",
    "    resized = resize_and_crop(src_image).convert(\"RGB\")\n",
    "    resized.save(f\"../assets/chuamiatee/out/{id}.jpg\", \"JPEG\") "
   ],
   "outputs": [],
   "execution_count": 10
  }
 ],
 "metadata": {
  "kernelspec": {
   "display_name": "Python 3",
   "language": "python",
   "name": "python3"
  },
  "language_info": {
   "codemirror_mode": {
    "name": "ipython",
    "version": 2
   },
   "file_extension": ".py",
   "mimetype": "text/x-python",
   "name": "python",
   "nbconvert_exporter": "python",
   "pygments_lexer": "ipython2",
   "version": "2.7.6"
  }
 },
 "nbformat": 4,
 "nbformat_minor": 5
}
